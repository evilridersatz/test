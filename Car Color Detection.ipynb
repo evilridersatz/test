{
  "nbformat": 4,
  "nbformat_minor": 0,
  "metadata": {
    "colab": {
      "provenance": [],
      "include_colab_link": true
    },
    "kernelspec": {
      "name": "python3",
      "display_name": "Python 3"
    },
    "language_info": {
      "name": "python"
    },
    "accelerator": "GPU",
    "gpuClass": "standard"
  },
  "cells": [
    {
      "cell_type": "markdown",
      "metadata": {
        "id": "view-in-github",
        "colab_type": "text"
      },
      "source": [
        "<a href=\"https://colab.research.google.com/github/evilridersatz/test/blob/main/Car%20Color%20Detection.ipynb\" target=\"_parent\"><img src=\"https://colab.research.google.com/assets/colab-badge.svg\" alt=\"Open In Colab\"/></a>"
      ]
    },
    {
      "cell_type": "markdown",
      "source": [
        "# Setup\n",
        "\n",
        "Pull in respective libraries to prepare the notebook environment."
      ],
      "metadata": {
        "id": "-PJ8vlYXbWtN"
      }
    },
    {
      "cell_type": "code",
      "execution_count": 1,
      "metadata": {
        "id": "pIM7fOwm8A7l",
        "outputId": "515c39e5-7fd7-44da-9d7e-2c9ca413e915",
        "colab": {
          "base_uri": "https://localhost:8080/"
        }
      },
      "outputs": [
        {
          "output_type": "stream",
          "name": "stderr",
          "text": [
            "YOLOv5 🚀 v7.0-223-g005dcfa Python-3.10.12 torch-2.0.1+cu118 CUDA:0 (Tesla T4, 15102MiB)\n"
          ]
        },
        {
          "output_type": "stream",
          "name": "stdout",
          "text": [
            "Setup complete ✅ (2 CPUs, 12.7 GB RAM, 26.3/78.2 GB disk)\n"
          ]
        }
      ],
      "source": [
        "!git clone https://github.com/ultralytics/yolov5  # clone\n",
        "%cd yolov5\n",
        "%pip install -qr requirements.txt  # install\n",
        "\n",
        "import torch\n",
        "import utils\n",
        "display = utils.notebook_init()  # checks"
      ]
    },
    {
      "cell_type": "code",
      "source": [
        "# Ensure we're in the right directory to download our custom dataset\n",
        "import os\n",
        "os.makedirs(\"../datasets/\", exist_ok=True)\n",
        "%cd ../datasets/"
      ],
      "metadata": {
        "id": "6IIgJbP7G6Th",
        "outputId": "57b77112-5880-43b4-f396-c2d3f03eec70",
        "colab": {
          "base_uri": "https://localhost:8080/"
        }
      },
      "execution_count": 2,
      "outputs": [
        {
          "output_type": "stream",
          "name": "stdout",
          "text": [
            "/content/datasets\n"
          ]
        }
      ]
    },
    {
      "cell_type": "code",
      "source": [
        "# REPLACE the below with your exported code snippet from above\n",
        "\n",
        "\n",
        "!pip install roboflow\n",
        "\n",
        "from roboflow import Roboflow\n",
        "rf = Roboflow(api_key=\"tOgL1FzntFH3qOx63co0\")\n",
        "project = rf.workspace(\"mario-hernandez\").project(\"color_car-nnmer\")\n",
        "dataset = project.version(1).download(\"folder\")\n"
      ],
      "metadata": {
        "id": "He6JwHIlG-W_",
        "outputId": "d2fa845d-42c1-4902-cfab-2dadfa15bae0",
        "colab": {
          "base_uri": "https://localhost:8080/"
        }
      },
      "execution_count": 4,
      "outputs": [
        {
          "output_type": "stream",
          "name": "stdout",
          "text": [
            "Requirement already satisfied: roboflow in /usr/local/lib/python3.10/dist-packages (1.1.6)\n",
            "Requirement already satisfied: certifi==2022.12.7 in /usr/local/lib/python3.10/dist-packages (from roboflow) (2022.12.7)\n",
            "Requirement already satisfied: chardet==4.0.0 in /usr/local/lib/python3.10/dist-packages (from roboflow) (4.0.0)\n",
            "Requirement already satisfied: cycler==0.10.0 in /usr/local/lib/python3.10/dist-packages (from roboflow) (0.10.0)\n",
            "Requirement already satisfied: idna==2.10 in /usr/local/lib/python3.10/dist-packages (from roboflow) (2.10)\n",
            "Requirement already satisfied: kiwisolver>=1.3.1 in /usr/local/lib/python3.10/dist-packages (from roboflow) (1.4.5)\n",
            "Requirement already satisfied: matplotlib in /usr/local/lib/python3.10/dist-packages (from roboflow) (3.7.1)\n",
            "Requirement already satisfied: numpy>=1.18.5 in /usr/local/lib/python3.10/dist-packages (from roboflow) (1.23.5)\n",
            "Requirement already satisfied: opencv-python-headless==4.8.0.74 in /usr/local/lib/python3.10/dist-packages (from roboflow) (4.8.0.74)\n",
            "Requirement already satisfied: Pillow>=7.1.2 in /usr/local/lib/python3.10/dist-packages (from roboflow) (9.4.0)\n",
            "Requirement already satisfied: pyparsing==2.4.7 in /usr/local/lib/python3.10/dist-packages (from roboflow) (2.4.7)\n",
            "Requirement already satisfied: python-dateutil in /usr/local/lib/python3.10/dist-packages (from roboflow) (2.8.2)\n",
            "Requirement already satisfied: python-dotenv in /usr/local/lib/python3.10/dist-packages (from roboflow) (1.0.0)\n",
            "Requirement already satisfied: requests in /usr/local/lib/python3.10/dist-packages (from roboflow) (2.31.0)\n",
            "Requirement already satisfied: six in /usr/local/lib/python3.10/dist-packages (from roboflow) (1.16.0)\n",
            "Requirement already satisfied: supervision in /usr/local/lib/python3.10/dist-packages (from roboflow) (0.14.0)\n",
            "Requirement already satisfied: urllib3>=1.26.6 in /usr/local/lib/python3.10/dist-packages (from roboflow) (2.0.4)\n",
            "Requirement already satisfied: tqdm>=4.41.0 in /usr/local/lib/python3.10/dist-packages (from roboflow) (4.66.1)\n",
            "Requirement already satisfied: PyYAML>=5.3.1 in /usr/local/lib/python3.10/dist-packages (from roboflow) (6.0.1)\n",
            "Requirement already satisfied: requests-toolbelt in /usr/local/lib/python3.10/dist-packages (from roboflow) (1.0.0)\n",
            "Requirement already satisfied: contourpy>=1.0.1 in /usr/local/lib/python3.10/dist-packages (from matplotlib->roboflow) (1.1.0)\n",
            "Requirement already satisfied: fonttools>=4.22.0 in /usr/local/lib/python3.10/dist-packages (from matplotlib->roboflow) (4.42.1)\n",
            "Requirement already satisfied: packaging>=20.0 in /usr/local/lib/python3.10/dist-packages (from matplotlib->roboflow) (23.1)\n",
            "Requirement already satisfied: charset-normalizer<4,>=2 in /usr/local/lib/python3.10/dist-packages (from requests->roboflow) (3.2.0)\n",
            "Requirement already satisfied: scipy<2.0.0,>=1.9.0 in /usr/local/lib/python3.10/dist-packages (from supervision->roboflow) (1.11.2)\n",
            "loading Roboflow workspace...\n",
            "loading Roboflow project...\n"
          ]
        },
        {
          "output_type": "stream",
          "name": "stderr",
          "text": [
            "Downloading Dataset Version Zip in color_car-1 to folder:: 100%|██████████| 95830/95830 [00:05<00:00, 17911.82it/s]"
          ]
        },
        {
          "output_type": "stream",
          "name": "stdout",
          "text": [
            "\n"
          ]
        },
        {
          "output_type": "stream",
          "name": "stderr",
          "text": [
            "\n",
            "Extracting Dataset Version Zip to color_car-1 in folder:: 100%|██████████| 9047/9047 [00:01<00:00, 7967.10it/s]\n"
          ]
        }
      ]
    },
    {
      "cell_type": "code",
      "source": [
        "#Save the dataset name to the environment so we can use it in a system call later\n",
        "dataset_name = dataset.location.split(os.sep)[-1]\n",
        "os.environ[\"DATASET_NAME\"] = dataset_name"
      ],
      "metadata": {
        "id": "wLQbThFICpn4"
      },
      "execution_count": 5,
      "outputs": []
    },
    {
      "cell_type": "code",
      "source": [
        "%cd ../yolov5\n",
        "!python classify/train.py --model yolov5s-cls.pt --data $DATASET_NAME --epochs 50 --img 128 --pretrained weights/yolov5s-cls.pt"
      ],
      "metadata": {
        "id": "MXWTTN2BEaqe",
        "outputId": "bddec295-a8c6-4624-9504-e733b1977377",
        "colab": {
          "base_uri": "https://localhost:8080/"
        }
      },
      "execution_count": 6,
      "outputs": [
        {
          "output_type": "stream",
          "name": "stdout",
          "text": [
            "/content/yolov5\n",
            "\u001b[34m\u001b[1mclassify/train: \u001b[0mmodel=yolov5s-cls.pt, data=color_car-1, epochs=50, batch_size=64, imgsz=128, nosave=False, cache=None, device=, workers=8, project=runs/train-cls, name=exp, exist_ok=False, pretrained=weights/yolov5s-cls.pt, optimizer=Adam, lr0=0.001, decay=5e-05, label_smoothing=0.1, cutoff=None, dropout=None, verbose=False, seed=0, local_rank=-1\n",
            "\u001b[34m\u001b[1mgithub: \u001b[0mup to date with https://github.com/ultralytics/yolov5 ✅\n",
            "YOLOv5 🚀 v7.0-223-g005dcfa Python-3.10.12 torch-2.0.1+cu118 CUDA:0 (Tesla T4, 15102MiB)\n",
            "\n",
            "\u001b[34m\u001b[1mTensorBoard: \u001b[0mStart with 'tensorboard --logdir runs/train-cls', view at http://localhost:6006/\n",
            "\u001b[34m\u001b[1malbumentations: \u001b[0mRandomResizedCrop(p=1.0, height=128, width=128, scale=(0.08, 1.0), ratio=(0.75, 1.3333333333333333), interpolation=1), HorizontalFlip(p=0.5), ColorJitter(p=0.5, brightness=[0.6, 1.4], contrast=[0.6, 1.4], saturation=[0.6, 1.4], hue=[0, 0]), Normalize(p=1.0, mean=(0.485, 0.456, 0.406), std=(0.229, 0.224, 0.225), max_pixel_value=255.0), ToTensorV2(always_apply=True, p=1.0, transpose_mask=False)\n",
            "Downloading https://github.com/ultralytics/yolov5/releases/download/v7.0/yolov5s-cls.pt to yolov5s-cls.pt...\n",
            "100% 10.5M/10.5M [00:01<00:00, 9.34MB/s]\n",
            "\n",
            "Model summary: 149 layers, 4185290 parameters, 4185290 gradients, 10.5 GFLOPs\n",
            "\u001b[34m\u001b[1moptimizer:\u001b[0m Adam(lr=0.001) with parameter groups 32 weight(decay=0.0), 33 weight(decay=5e-05), 33 bias\n",
            "Image sizes 128 train, 128 test\n",
            "Using 1 dataloader workers\n",
            "Logging results to \u001b[1mruns/train-cls/exp\u001b[0m\n",
            "Starting yolov5s-cls.pt training on color_car-1 dataset with 10 classes for 50 epochs...\n",
            "\n",
            "     Epoch   GPU_mem  train_loss   test_loss    top1_acc    top5_acc\n",
            "      1/50    0.734G        1.44        1.35       0.631       0.964: 100% 97/97 [00:16<00:00,  5.73it/s]\n",
            "      2/50    0.734G        1.14        1.24       0.676       0.971: 100% 97/97 [00:15<00:00,  6.24it/s]\n",
            "      3/50    0.734G         1.1        1.08       0.765        0.98: 100% 97/97 [00:16<00:00,  5.93it/s]\n",
            "      4/50    0.734G        1.06       0.998        0.79       0.987: 100% 97/97 [00:15<00:00,  6.32it/s]\n",
            "      5/50    0.734G        1.02        1.04       0.782       0.985: 100% 97/97 [00:15<00:00,  6.35it/s]\n",
            "      6/50    0.734G        1.01        1.08       0.745       0.987: 100% 97/97 [00:15<00:00,  6.34it/s]\n",
            "      7/50    0.734G       0.982       0.997       0.796       0.977: 100% 97/97 [00:15<00:00,  6.35it/s]\n",
            "      8/50    0.734G       0.957       0.987       0.798       0.988: 100% 97/97 [00:15<00:00,  6.30it/s]\n",
            "      9/50    0.734G       0.955       0.998       0.796       0.985: 100% 97/97 [00:16<00:00,  5.97it/s]\n",
            "     10/50    0.734G       0.951       0.969       0.794       0.994: 100% 97/97 [00:15<00:00,  6.23it/s]\n",
            "     11/50    0.734G       0.921       0.951       0.813        0.99: 100% 97/97 [00:15<00:00,  6.36it/s]\n",
            "     12/50    0.734G       0.904       0.857       0.854       0.994: 100% 97/97 [00:15<00:00,  6.33it/s]\n",
            "     13/50    0.734G       0.904        0.89       0.842       0.998: 100% 97/97 [00:15<00:00,  6.34it/s]\n",
            "     14/50    0.734G       0.889       0.915       0.827       0.993: 100% 97/97 [00:15<00:00,  6.20it/s]\n",
            "     15/50    0.734G       0.868       0.912       0.808       0.994: 100% 97/97 [00:16<00:00,  5.89it/s]\n",
            "     16/50    0.734G       0.878       0.853       0.851       0.994: 100% 97/97 [00:15<00:00,  6.30it/s]\n",
            "     17/50    0.734G       0.864       0.837       0.855        0.99: 100% 97/97 [00:15<00:00,  6.29it/s]\n",
            "     18/50    0.734G       0.873       0.832       0.865       0.995: 100% 97/97 [00:15<00:00,  6.35it/s]\n",
            "     19/50    0.734G       0.849        0.81       0.873       0.994: 100% 97/97 [00:15<00:00,  6.37it/s]\n",
            "     20/50    0.734G        0.85       0.825       0.866       0.997: 100% 97/97 [00:15<00:00,  6.38it/s]\n",
            "     21/50    0.734G       0.845       0.837       0.853       0.995: 100% 97/97 [00:16<00:00,  6.04it/s]\n",
            "     22/50    0.734G       0.836       0.811       0.857       0.994: 100% 97/97 [00:15<00:00,  6.23it/s]\n",
            "     23/50    0.734G       0.835       0.833       0.864       0.994: 100% 97/97 [00:15<00:00,  6.22it/s]\n",
            "     24/50    0.734G       0.822       0.855       0.869       0.992: 100% 97/97 [00:15<00:00,  6.30it/s]\n",
            "     25/50    0.734G        0.83       0.816       0.872       0.997: 100% 97/97 [00:15<00:00,  6.30it/s]\n",
            "     26/50    0.734G       0.827       0.818       0.874       0.995: 100% 97/97 [00:15<00:00,  6.28it/s]\n",
            "     27/50    0.734G       0.802       0.779       0.881       0.997: 100% 97/97 [00:15<00:00,  6.16it/s]\n",
            "     28/50    0.734G       0.799       0.868       0.844       0.988: 100% 97/97 [00:16<00:00,  6.01it/s]\n",
            "     29/50    0.734G       0.796       0.776       0.882       0.997: 100% 97/97 [00:15<00:00,  6.33it/s]\n",
            "     30/50    0.734G       0.795       0.787       0.881       0.995: 100% 97/97 [00:15<00:00,  6.28it/s]\n",
            "     31/50    0.734G       0.795       0.793       0.871       0.997: 100% 97/97 [00:15<00:00,  6.24it/s]\n",
            "     32/50    0.734G       0.785       0.748       0.893       0.997: 100% 97/97 [00:15<00:00,  6.32it/s]\n",
            "     33/50    0.734G       0.779        0.82       0.869       0.997: 100% 97/97 [00:15<00:00,  6.18it/s]\n",
            "     34/50    0.734G       0.784       0.765       0.884       0.997: 100% 97/97 [00:16<00:00,  5.97it/s]\n",
            "     35/50    0.734G       0.767       0.782       0.873       0.997: 100% 97/97 [00:15<00:00,  6.32it/s]\n",
            "     36/50    0.734G       0.766       0.798       0.874       0.995: 100% 97/97 [00:15<00:00,  6.38it/s]\n",
            "     37/50    0.734G       0.769       0.751       0.891       0.999: 100% 97/97 [00:15<00:00,  6.30it/s]\n",
            "     38/50    0.734G       0.757       0.826       0.849       0.997: 100% 97/97 [00:15<00:00,  6.31it/s]\n",
            "     39/50    0.734G       0.748        0.78       0.887       0.998: 100% 97/97 [00:15<00:00,  6.27it/s]\n",
            "     40/50    0.734G       0.746       0.794       0.873       0.997: 100% 97/97 [00:16<00:00,  5.94it/s]\n",
            "     41/50    0.734G       0.751       0.771       0.884       0.998: 100% 97/97 [00:15<00:00,  6.31it/s]\n",
            "     42/50    0.734G       0.742       0.781       0.876       0.998: 100% 97/97 [00:15<00:00,  6.29it/s]\n",
            "     43/50    0.734G       0.737       0.748       0.894       0.999: 100% 97/97 [00:15<00:00,  6.30it/s]\n",
            "     44/50    0.734G       0.729       0.751        0.89       0.999: 100% 97/97 [00:16<00:00,  5.76it/s]\n",
            "     45/50    0.734G       0.726       0.755       0.896       0.999: 100% 97/97 [00:16<00:00,  6.03it/s]\n",
            "     46/50    0.734G       0.721       0.775       0.875       0.997: 100% 97/97 [00:15<00:00,  6.20it/s]\n",
            "     47/50    0.734G       0.718       0.739       0.896       0.998: 100% 97/97 [00:15<00:00,  6.23it/s]\n",
            "     48/50    0.734G       0.715        0.74       0.893       0.997: 100% 97/97 [00:15<00:00,  6.30it/s]\n",
            "     49/50    0.734G       0.701       0.754       0.887       0.998: 100% 97/97 [00:15<00:00,  6.18it/s]\n",
            "     50/50    0.734G       0.699       0.741       0.892       0.999: 100% 97/97 [00:15<00:00,  6.29it/s]\n",
            "\n",
            "Training complete (0.219 hours)\n",
            "Results saved to \u001b[1mruns/train-cls/exp\u001b[0m\n",
            "Predict:         python classify/predict.py --weights runs/train-cls/exp/weights/best.pt --source im.jpg\n",
            "Validate:        python classify/val.py --weights runs/train-cls/exp/weights/best.pt --data /content/datasets/color_car-1\n",
            "Export:          python export.py --weights runs/train-cls/exp/weights/best.pt --include onnx\n",
            "PyTorch Hub:     model = torch.hub.load('ultralytics/yolov5', 'custom', 'runs/train-cls/exp/weights/best.pt')\n",
            "Visualize:       https://netron.app\n",
            "\n"
          ]
        }
      ]
    },
    {
      "cell_type": "code",
      "source": [
        "!python classify/predict.py --weights runs/train-cls/exp/weights/best.pt --source /content/datasets/1.jpg"
      ],
      "metadata": {
        "id": "rLAHHE3RoAY7",
        "outputId": "a045e029-ea25-4e8a-bbcb-090fb82b9946",
        "colab": {
          "base_uri": "https://localhost:8080/"
        }
      },
      "execution_count": 7,
      "outputs": [
        {
          "output_type": "stream",
          "name": "stdout",
          "text": [
            "\u001b[34m\u001b[1mclassify/predict: \u001b[0mweights=['runs/train-cls/exp/weights/best.pt'], source=/content/datasets/1.jpg, data=data/coco128.yaml, imgsz=[224, 224], device=, view_img=False, save_txt=False, nosave=False, augment=False, visualize=False, update=False, project=runs/predict-cls, name=exp, exist_ok=False, half=False, dnn=False, vid_stride=1\n",
            "YOLOv5 🚀 v7.0-223-g005dcfa Python-3.10.12 torch-2.0.1+cu118 CUDA:0 (Tesla T4, 15102MiB)\n",
            "\n",
            "Fusing layers... \n",
            "Model summary: 117 layers, 4179498 parameters, 0 gradients, 10.4 GFLOPs\n",
            "image 1/1 /content/datasets/1.jpg: 224x224 red 0.59, purple 0.07, pink 0.06, black_grey 0.06, white_silver_cream 0.05, 2.9ms\n",
            "Speed: 0.3ms pre-process, 2.9ms inference, 5.9ms NMS per image at shape (1, 3, 224, 224)\n",
            "Results saved to \u001b[1mruns/predict-cls/exp\u001b[0m\n"
          ]
        }
      ]
    },
    {
      "cell_type": "code",
      "source": [
        "from IPython.display import Image, display\n",
        "\n",
        "# Replace 'result1.jpg' with the actual filename of your result image\n",
        "image_path = '/content/yolov5/runs/predict-cls/exp/1.jpg'\n",
        "display(Image(image_path))"
      ],
      "metadata": {
        "id": "awGXPzwRovAn",
        "outputId": "a637a649-8c04-4d4a-a286-281ca680660d",
        "colab": {
          "base_uri": "https://localhost:8080/",
          "height": 241
        }
      },
      "execution_count": 10,
      "outputs": [
        {
          "output_type": "display_data",
          "data": {
            "image/jpeg": "[encoded data removed]",
            "text/plain": [
              "<IPython.core.display.Image object>"
            ]
          },
          "metadata": {}
        }
      ]
    }
  ]
}